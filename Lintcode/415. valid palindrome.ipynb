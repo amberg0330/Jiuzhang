{
 "cells": [
  {
   "cell_type": "code",
   "execution_count": null,
   "id": "b050dadf",
   "metadata": {},
   "outputs": [],
   "source": [
    "def isPalindrome(s):\n",
    "        # write your code here\n",
    "        mystr=''\n",
    "        for i in range(len(s)):\n",
    "            if ord('a')<=ord(s[i])<=ord('z'):\n",
    "                mystr += s[i]\n",
    "            elif ord('A')<=ord(s[i])<=ord('Z'):\n",
    "                mystr += chr(ord(s[i])+(ord('A')-ord('a')))\n",
    "            i += 1 \n",
    "        \n",
    "        head = 0 \n",
    "        end = len(mystr) - 1\n",
    "        print(mystr)\n",
    "\n",
    "        while head < end:\n",
    "            if s[head] == s[end]:\n",
    "                head += 1 \n",
    "                end -= 1 \n",
    "        return head == len(s)//2"
   ]
  },
  {
   "cell_type": "code",
   "execution_count": null,
   "id": "248d6f9d",
   "metadata": {},
   "outputs": [],
   "source": [
    "isPalindrome('A man, a plan, a canal: Panama')"
   ]
  },
  {
   "cell_type": "code",
   "execution_count": null,
   "id": "32fcb916",
   "metadata": {},
   "outputs": [],
   "source": []
  },
  {
   "cell_type": "code",
   "execution_count": null,
   "id": "8dacb2f4",
   "metadata": {},
   "outputs": [],
   "source": []
  },
  {
   "cell_type": "code",
   "execution_count": null,
   "id": "ce90b60f",
   "metadata": {},
   "outputs": [],
   "source": []
  }
 ],
 "metadata": {
  "kernelspec": {
   "display_name": "Python 3",
   "language": "python",
   "name": "python3"
  },
  "language_info": {
   "codemirror_mode": {
    "name": "ipython",
    "version": 3
   },
   "file_extension": ".py",
   "mimetype": "text/x-python",
   "name": "python",
   "nbconvert_exporter": "python",
   "pygments_lexer": "ipython3",
   "version": "3.8.8"
  }
 },
 "nbformat": 4,
 "nbformat_minor": 5
}
