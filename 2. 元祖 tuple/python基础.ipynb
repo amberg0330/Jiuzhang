{
 "cells": [
  {
   "cell_type": "code",
   "execution_count": 5,
   "id": "5d44c2cc",
   "metadata": {},
   "outputs": [],
   "source": [
    "### 程序流控制"
   ]
  },
  {
   "cell_type": "code",
   "execution_count": 6,
   "id": "8a95a215",
   "metadata": {},
   "outputs": [],
   "source": [
    "## if else语句\n",
    " \"\"\"\n",
    " if condition1: \n",
    " elif condition2: \n",
    " else condition3:\n",
    " \"\"\""
   ]
  },
  {
   "cell_type": "code",
   "execution_count": 37,
   "id": "d8665f57",
   "metadata": {},
   "outputs": [],
   "source": [
    "score = [90, 95, 92, 89, 100, 98]\n",
    "myscore = score[0]\n",
    "score[0]=100"
   ]
  },
  {
   "cell_type": "code",
   "execution_count": 38,
   "id": "d4295e91",
   "metadata": {},
   "outputs": [
    {
     "name": "stdout",
     "output_type": "stream",
     "text": [
      "100 95 92 89 100 98 \n"
     ]
    }
   ],
   "source": [
    "## 遍历\n",
    "for check in score:\n",
    "    print(check,end=\" \")\n",
    "print()"
   ]
  },
  {
   "cell_type": "code",
   "execution_count": 40,
   "id": "b4e58d10",
   "metadata": {},
   "outputs": [
    {
     "name": "stdout",
     "output_type": "stream",
     "text": [
      "100\n",
      "95\n",
      "92\n",
      "89\n",
      "100\n",
      "98\n",
      "\n"
     ]
    }
   ],
   "source": [
    "for i in range(len(score)):\n",
    "    print(score[i])\n",
    "print()"
   ]
  },
  {
   "cell_type": "code",
   "execution_count": 41,
   "id": "3a782887",
   "metadata": {
    "scrolled": true
   },
   "outputs": [
    {
     "name": "stdout",
     "output_type": "stream",
     "text": [
      "0 100\n",
      "1 95\n",
      "2 92\n",
      "3 89\n",
      "4 100\n",
      "5 98\n"
     ]
    }
   ],
   "source": [
    "for (i, score) in enumerate(score):\n",
    "    print(i, score)"
   ]
  },
  {
   "cell_type": "code",
   "execution_count": 44,
   "id": "4f52f008",
   "metadata": {},
   "outputs": [
    {
     "name": "stdout",
     "output_type": "stream",
     "text": [
      "0 5 10 15 20 25 30 35 40 45 50 55 60 65 70 75 80 85 90 95 \n"
     ]
    }
   ],
   "source": [
    "for i in range(0, 100, 5):\n",
    "    print(i, end=\" \")\n",
    "print()"
   ]
  },
  {
   "cell_type": "code",
   "execution_count": 60,
   "id": "7c70abd9",
   "metadata": {},
   "outputs": [
    {
     "data": {
      "text/plain": [
       "[90, 95, 92, 89, 100, 98]"
      ]
     },
     "execution_count": 60,
     "metadata": {},
     "output_type": "execute_result"
    }
   ],
   "source": [
    "### for 循环\n",
    "scores = [90, 95, 92, 89, 100, 98]\n",
    "scores"
   ]
  },
  {
   "cell_type": "code",
   "execution_count": 53,
   "id": "b01c8ac6",
   "metadata": {},
   "outputs": [
    {
     "name": "stdout",
     "output_type": "stream",
     "text": [
      "90 95 92 89 100 \n"
     ]
    }
   ],
   "source": [
    "## break \n",
    "target=100\n",
    "for score in scores:\n",
    "    print(score, end=\" \")\n",
    "    if score == target: \n",
    "        found = True \n",
    "        break\n",
    "print()"
   ]
  },
  {
   "cell_type": "code",
   "execution_count": 67,
   "id": "884f8fbd",
   "metadata": {},
   "outputs": [
    {
     "name": "stdout",
     "output_type": "stream",
     "text": [
      "\n"
     ]
    },
    {
     "data": {
      "text/plain": [
       "98"
      ]
     },
     "execution_count": 67,
     "metadata": {},
     "output_type": "execute_result"
    }
   ],
   "source": [
    "## continue - not quite clear!!!! \n",
    "scores = [90, 95, 92, 89, 100, 98]\n",
    "for score in scores: \n",
    "    if score < 95: \n",
    "        continue #continue 后面的语句不执行 但循环还在继续\n",
    "        print(score, end=\" \")\n",
    "print()\n",
    "score"
   ]
  },
  {
   "cell_type": "code",
   "execution_count": 70,
   "id": "c91a9e9e",
   "metadata": {},
   "outputs": [
    {
     "name": "stdout",
     "output_type": "stream",
     "text": [
      "90 95 92 89 100 98 "
     ]
    }
   ],
   "source": [
    "## while 循环\n",
    "# while循环与 for循环 完全等价\n",
    "i = 0 \n",
    "while i < len(scores):\n",
    "    print(scores[i], end=\" \")\n",
    "    i+=1 \n",
    "    "
   ]
  },
  {
   "cell_type": "code",
   "execution_count": 74,
   "id": "0d7556f5",
   "metadata": {},
   "outputs": [
    {
     "name": "stdout",
     "output_type": "stream",
     "text": [
      "95 88 54 67 25 "
     ]
    }
   ],
   "source": [
    "#多重循环\n",
    "multi_scores = [[95, 88, 54], [67, 25]]\n",
    "\n",
    "for scores in multi_scores: \n",
    "    for score in scores: \n",
    "        print(score, end=\" \")"
   ]
  },
  {
   "cell_type": "code",
   "execution_count": 75,
   "id": "d54c75cc",
   "metadata": {},
   "outputs": [
    {
     "name": "stdout",
     "output_type": "stream",
     "text": [
      "95 88 54 67 25 "
     ]
    }
   ],
   "source": [
    "for i in range(len(multi_scores)):\n",
    "    for j in range(len(multi_scores[i])):\n",
    "        print(multi_scores[i][j], end=\" \")"
   ]
  },
  {
   "cell_type": "code",
   "execution_count": null,
   "id": "917192e6",
   "metadata": {},
   "outputs": [],
   "source": []
  },
  {
   "cell_type": "code",
   "execution_count": 80,
   "id": "4f4df7ae",
   "metadata": {},
   "outputs": [],
   "source": [
    "### for & while are identical "
   ]
  },
  {
   "cell_type": "code",
   "execution_count": 84,
   "id": "8ebc1ce5",
   "metadata": {},
   "outputs": [
    {
     "name": "stdout",
     "output_type": "stream",
     "text": [
      "2, 3, 4, 6, "
     ]
    }
   ],
   "source": [
    "## method1 \n",
    "list = [1, 2, 3, 4, 5, 6]\n",
    "for number in list: \n",
    "    if number % 2 == 0 or number % 3 == 0: \n",
    "        print(number, end=\", \")\n"
   ]
  },
  {
   "cell_type": "code",
   "execution_count": 85,
   "id": "f0b9c7ee",
   "metadata": {},
   "outputs": [
    {
     "name": "stdout",
     "output_type": "stream",
     "text": [
      "2, 3, 4, 6, "
     ]
    }
   ],
   "source": [
    "## method2 \n",
    "for i in range(len(list)):\n",
    "    if list[i] % 2 == 0 or list[i] % 3 == 0: \n",
    "        print(list[i], end=\", \")\n",
    "        i += 1 \n",
    "        "
   ]
  },
  {
   "cell_type": "code",
   "execution_count": 86,
   "id": "2a044dbf",
   "metadata": {},
   "outputs": [
    {
     "name": "stdout",
     "output_type": "stream",
     "text": [
      "2, 3, 4, 6, "
     ]
    }
   ],
   "source": [
    "# method3 \n",
    "for (i, number) in enumerate(list): \n",
    "    if number%2 == 0 or number%3==0:\n",
    "        print(number, end=\", \")"
   ]
  },
  {
   "cell_type": "code",
   "execution_count": null,
   "id": "f2205e79",
   "metadata": {},
   "outputs": [],
   "source": []
  },
  {
   "cell_type": "code",
   "execution_count": 87,
   "id": "b366a98e",
   "metadata": {},
   "outputs": [
    {
     "name": "stdout",
     "output_type": "stream",
     "text": [
      "2, 3, 4, 6, "
     ]
    }
   ],
   "source": [
    "## continue \n",
    "list = [1, 2, 3, 4, 5, 6]\n",
    "for number in list: \n",
    "    if number% 2 != 0 and number%3!=0: \n",
    "        continue \n",
    "    print(number, end=\", \")"
   ]
  },
  {
   "cell_type": "code",
   "execution_count": 90,
   "id": "dd85a442",
   "metadata": {},
   "outputs": [],
   "source": [
    "## break\n",
    "for number in list: \n",
    "    if number%2 == 0 or number%3 == 0: \n",
    "        break \n",
    "    print(number, end=\", \")"
   ]
  },
  {
   "cell_type": "code",
   "execution_count": null,
   "id": "65cfc4e8",
   "metadata": {},
   "outputs": [],
   "source": []
  }
 ],
 "metadata": {
  "kernelspec": {
   "display_name": "Python 3",
   "language": "python",
   "name": "python3"
  },
  "language_info": {
   "codemirror_mode": {
    "name": "ipython",
    "version": 3
   },
   "file_extension": ".py",
   "mimetype": "text/x-python",
   "name": "python",
   "nbconvert_exporter": "python",
   "pygments_lexer": "ipython3",
   "version": "3.8.8"
  }
 },
 "nbformat": 4,
 "nbformat_minor": 5
}
