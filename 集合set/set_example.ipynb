{
 "cells": [
  {
   "cell_type": "markdown",
   "id": "51ac1bdb",
   "metadata": {},
   "source": [
    "# Set Example"
   ]
  },
  {
   "cell_type": "code",
   "execution_count": 8,
   "id": "8aa82168",
   "metadata": {},
   "outputs": [],
   "source": [
    "set_1 = set([12, 15, 18.2, 'hello'])\n",
    "set_2 = {12, 15, 18.2, 'hello'} #和上面等价 就是集合\n",
    "set_3 = set('hello')"
   ]
  },
  {
   "cell_type": "code",
   "execution_count": 9,
   "id": "490f7149",
   "metadata": {},
   "outputs": [
    {
     "data": {
      "text/plain": [
       "{'e', 'h', 'l', 'o'}"
      ]
     },
     "execution_count": 9,
     "metadata": {},
     "output_type": "execute_result"
    }
   ],
   "source": [
    "set_3"
   ]
  },
  {
   "cell_type": "markdown",
   "id": "8d8668a3",
   "metadata": {},
   "source": [
    "## 增 Create"
   ]
  },
  {
   "cell_type": "code",
   "execution_count": 13,
   "id": "af57f037",
   "metadata": {},
   "outputs": [
    {
     "data": {
      "text/plain": [
       "{11, 12, 15, 18.2, 'Jiuzhang', 'abc', 'hello'}"
      ]
     },
     "execution_count": 13,
     "metadata": {},
     "output_type": "execute_result"
    }
   ],
   "source": [
    "set_1.add('Jiuzhang')\n",
    "set_1"
   ]
  },
  {
   "cell_type": "code",
   "execution_count": 14,
   "id": "002febdb",
   "metadata": {},
   "outputs": [
    {
     "data": {
      "text/plain": [
       "{11, 12, 15, 18.2, 'Jiuzhang', 'abc', 'hello'}"
      ]
     },
     "execution_count": 14,
     "metadata": {},
     "output_type": "execute_result"
    }
   ],
   "source": [
    "set_1.update([11, 'abc']) #是add的批量操作\n",
    "set_1"
   ]
  },
  {
   "cell_type": "markdown",
   "id": "a42197c5",
   "metadata": {},
   "source": [
    "## 查 Read"
   ]
  },
  {
   "cell_type": "code",
   "execution_count": 15,
   "id": "e212b7b5",
   "metadata": {},
   "outputs": [
    {
     "name": "stdout",
     "output_type": "stream",
     "text": [
      "hello 11 12 15 Jiuzhang 18.2 abc "
     ]
    }
   ],
   "source": [
    "for elem in set_1: \n",
    "    print(elem, end=\" \")"
   ]
  },
  {
   "cell_type": "code",
   "execution_count": 16,
   "id": "c5fda09f",
   "metadata": {},
   "outputs": [
    {
     "data": {
      "text/plain": [
       "True"
      ]
     },
     "execution_count": 16,
     "metadata": {},
     "output_type": "execute_result"
    }
   ],
   "source": [
    "12 in set_1 #时间复杂度 O（1）"
   ]
  },
  {
   "cell_type": "markdown",
   "id": "b5fe7fbc",
   "metadata": {},
   "source": [
    "## 删 Delete"
   ]
  },
  {
   "cell_type": "code",
   "execution_count": 18,
   "id": "0d667c00",
   "metadata": {},
   "outputs": [
    {
     "data": {
      "text/plain": [
       "{11, 15, 18.2, 'Jiuzhang', 'abc', 'hello'}"
      ]
     },
     "execution_count": 18,
     "metadata": {},
     "output_type": "execute_result"
    }
   ],
   "source": [
    "if 12 in set_1:\n",
    "    set_1.remove(12)\n",
    "set_1"
   ]
  },
  {
   "cell_type": "code",
   "execution_count": 19,
   "id": "66f92ab5",
   "metadata": {},
   "outputs": [
    {
     "ename": "KeyError",
     "evalue": "100",
     "output_type": "error",
     "traceback": [
      "\u001b[0;31m---------------------------------------------------------------------------\u001b[0m",
      "\u001b[0;31mKeyError\u001b[0m                                  Traceback (most recent call last)",
      "\u001b[0;32m<ipython-input-19-950da22b695e>\u001b[0m in \u001b[0;36m<module>\u001b[0;34m\u001b[0m\n\u001b[0;32m----> 1\u001b[0;31m \u001b[0mset_1\u001b[0m\u001b[0;34m.\u001b[0m\u001b[0mremove\u001b[0m\u001b[0;34m(\u001b[0m\u001b[0;36m100\u001b[0m\u001b[0;34m)\u001b[0m\u001b[0;34m\u001b[0m\u001b[0;34m\u001b[0m\u001b[0m\n\u001b[0m",
      "\u001b[0;31mKeyError\u001b[0m: 100"
     ]
    }
   ],
   "source": [
    "set_1.remove(100)"
   ]
  },
  {
   "cell_type": "code",
   "execution_count": 20,
   "id": "5be58a45",
   "metadata": {},
   "outputs": [
    {
     "data": {
      "text/plain": [
       "{11, 15, 18.2, 'Jiuzhang', 'abc', 'hello'}"
      ]
     },
     "execution_count": 20,
     "metadata": {},
     "output_type": "execute_result"
    }
   ],
   "source": [
    "set_1.discard(13) #如果在就删除 不在就啥也没发生\n",
    "set_1"
   ]
  },
  {
   "cell_type": "code",
   "execution_count": 21,
   "id": "f4aa9058",
   "metadata": {},
   "outputs": [
    {
     "data": {
      "text/plain": [
       "'hello'"
      ]
     },
     "execution_count": 21,
     "metadata": {},
     "output_type": "execute_result"
    }
   ],
   "source": [
    "set_1.pop()#无序的 所以他是随机删除 - 一般不会用的"
   ]
  },
  {
   "cell_type": "markdown",
   "id": "3018221d",
   "metadata": {},
   "source": [
    "## 其他 Other "
   ]
  },
  {
   "cell_type": "code",
   "execution_count": 22,
   "id": "2f15a6a9",
   "metadata": {},
   "outputs": [
    {
     "data": {
      "text/plain": [
       "4"
      ]
     },
     "execution_count": 22,
     "metadata": {},
     "output_type": "execute_result"
    }
   ],
   "source": [
    "len(set_2)"
   ]
  },
  {
   "cell_type": "markdown",
   "id": "b3e5118b",
   "metadata": {},
   "source": [
    "## 集合间操作 Set Operation"
   ]
  },
  {
   "cell_type": "code",
   "execution_count": 28,
   "id": "c346cfd7",
   "metadata": {},
   "outputs": [
    {
     "data": {
      "text/plain": [
       "({12, 15, 18.2, 'hello'}, {'e', 'h', 'l', 'o'})"
      ]
     },
     "execution_count": 28,
     "metadata": {},
     "output_type": "execute_result"
    }
   ],
   "source": [
    "set_2, set_3 "
   ]
  },
  {
   "cell_type": "code",
   "execution_count": 26,
   "id": "78b395af",
   "metadata": {},
   "outputs": [
    {
     "data": {
      "text/plain": [
       "{12, 15, 18.2, 'e', 'h', 'hello', 'l', 'o'}"
      ]
     },
     "execution_count": 26,
     "metadata": {},
     "output_type": "execute_result"
    }
   ],
   "source": [
    "set_2.union(set_3)"
   ]
  },
  {
   "cell_type": "code",
   "execution_count": 27,
   "id": "8e6e2b7f",
   "metadata": {},
   "outputs": [
    {
     "data": {
      "text/plain": [
       "{11, 15, 18.2, 'Jiuzhang', 'abc'}"
      ]
     },
     "execution_count": 27,
     "metadata": {},
     "output_type": "execute_result"
    }
   ],
   "source": [
    "set_1 "
   ]
  },
  {
   "cell_type": "code",
   "execution_count": null,
   "id": "7105d0e1",
   "metadata": {},
   "outputs": [],
   "source": []
  }
 ],
 "metadata": {
  "kernelspec": {
   "display_name": "Python 3",
   "language": "python",
   "name": "python3"
  },
  "language_info": {
   "codemirror_mode": {
    "name": "ipython",
    "version": 3
   },
   "file_extension": ".py",
   "mimetype": "text/x-python",
   "name": "python",
   "nbconvert_exporter": "python",
   "pygments_lexer": "ipython3",
   "version": "3.8.8"
  }
 },
 "nbformat": 4,
 "nbformat_minor": 5
}
