{
 "cells": [
  {
   "cell_type": "code",
   "execution_count": 5,
   "id": "f1f4dc1d",
   "metadata": {},
   "outputs": [],
   "source": [
    "### 程序流控制"
   ]
  },
  {
   "cell_type": "code",
   "execution_count": 6,
   "id": "d70209f8",
   "metadata": {},
   "outputs": [],
   "source": [
    "## if else语句\n",
    " \"\"\"\n",
    " if condition1: \n",
    " elif condition2: \n",
    " else condition3:\n",
    " \"\"\""
   ]
  },
  {
   "cell_type": "code",
   "execution_count": 37,
   "id": "ed526194",
   "metadata": {},
   "outputs": [],
   "source": [
    "## while 语句\n",
    "score = [90, 95, 92, 89, 100, 98]\n",
    "myscore = score[0]\n",
    "score[0]=100"
   ]
  },
  {
   "cell_type": "code",
   "execution_count": 38,
   "id": "d152a32d",
   "metadata": {},
   "outputs": [
    {
     "name": "stdout",
     "output_type": "stream",
     "text": [
      "100 95 92 89 100 98 \n"
     ]
    }
   ],
   "source": [
    "## 遍历\n",
    "for check in score:\n",
    "    print(check,end=\" \")\n",
    "print()"
   ]
  },
  {
   "cell_type": "code",
   "execution_count": 40,
   "id": "624f3bc7",
   "metadata": {},
   "outputs": [
    {
     "name": "stdout",
     "output_type": "stream",
     "text": [
      "100\n",
      "95\n",
      "92\n",
      "89\n",
      "100\n",
      "98\n",
      "\n"
     ]
    }
   ],
   "source": [
    "for i in range(len(score)):\n",
    "    print(score[i])\n",
    "print()"
   ]
  },
  {
   "cell_type": "code",
   "execution_count": 41,
   "id": "d89cc7dc",
   "metadata": {
    "scrolled": true
   },
   "outputs": [
    {
     "name": "stdout",
     "output_type": "stream",
     "text": [
      "0 100\n",
      "1 95\n",
      "2 92\n",
      "3 89\n",
      "4 100\n",
      "5 98\n"
     ]
    }
   ],
   "source": [
    "for (i, score) in enumerate(score):\n",
    "    print(i, score)"
   ]
  },
  {
   "cell_type": "code",
   "execution_count": 44,
   "id": "bc388983",
   "metadata": {},
   "outputs": [
    {
     "name": "stdout",
     "output_type": "stream",
     "text": [
      "0 5 10 15 20 25 30 35 40 45 50 55 60 65 70 75 80 85 90 95 \n"
     ]
    }
   ],
   "source": [
    "for i in range(0, 100, 5):\n",
    "    print(i, end=\" \")\n",
    "print()"
   ]
  },
  {
   "cell_type": "code",
   "execution_count": null,
   "id": "b0c8f2b7",
   "metadata": {},
   "outputs": [],
   "source": []
  }
 ],
 "metadata": {
  "kernelspec": {
   "display_name": "Python 3",
   "language": "python",
   "name": "python3"
  },
  "language_info": {
   "codemirror_mode": {
    "name": "ipython",
    "version": 3
   },
   "file_extension": ".py",
   "mimetype": "text/x-python",
   "name": "python",
   "nbconvert_exporter": "python",
   "pygments_lexer": "ipython3",
   "version": "3.8.8"
  }
 },
 "nbformat": 4,
 "nbformat_minor": 5
}
