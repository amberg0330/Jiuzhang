{
 "cells": [
  {
   "cell_type": "markdown",
   "id": "d5f116b8",
   "metadata": {},
   "source": [
    "# 链表 Linked List"
   ]
  },
  {
   "cell_type": "code",
   "execution_count": 1,
   "id": "2b43de28",
   "metadata": {},
   "outputs": [],
   "source": [
    "# 先构造一个类 \n",
    "class ListNode:\n",
    "    def __init__(self, val):\n",
    "        self.val = val\n",
    "        self.next = None \n",
    "        \n",
    "def build_linklist():\n",
    "    print('Build linked list')\n",
    "    node_1 = ListNode(1)\n",
    "    node_2 = ListNode(2)\n",
    "    node_3 = ListNode(3)\n",
    "    node_4 = ListNode(4)\n",
    "    \n",
    "    node_1.next = node_2 \n",
    "    node_2.next = node_3\n",
    "    node_3.next = node_4 "
   ]
  },
  {
   "cell_type": "markdown",
   "id": "625b29ab",
   "metadata": {},
   "source": [
    "## 遍历操作（traverse）"
   ]
  },
  {
   "cell_type": "code",
   "execution_count": 2,
   "id": "35b727c2",
   "metadata": {},
   "outputs": [],
   "source": [
    "def run_linkedlist_example():\n",
    "    print('Linked List example')\n",
    "    node_1 = ListNode(1)\n",
    "    node_2 = ListNode(2)\n",
    "    node_3 = ListNode(3)\n",
    "    node_4 = ListNode(4)\n",
    "    \n",
    "    node_1.next = node_2 \n",
    "    node_2.next = node_3\n",
    "    node_3.next = node_4 \n",
    "    \n",
    "    cur = node_1 \n",
    "    while cur is not None: \n",
    "        print(cur.val, end=\" \")\n",
    "        cur = cur.next \n",
    "    print('\\n')"
   ]
  },
  {
   "cell_type": "markdown",
   "id": "bc560dbb",
   "metadata": {},
   "source": [
    "## CRUD 操作"
   ]
  },
  {
   "cell_type": "code",
   "execution_count": 5,
   "id": "90dbd42a",
   "metadata": {},
   "outputs": [],
   "source": [
    "class MyLinkedList:\n",
    "    def __init__(self):\n",
    "        self.head = None "
   ]
  },
  {
   "cell_type": "markdown",
   "id": "0e56efa1",
   "metadata": {},
   "source": [
    "### 查找操作: get（location, val)"
   ]
  },
  {
   "cell_type": "code",
   "execution_count": 7,
   "id": "fe936f07",
   "metadata": {},
   "outputs": [],
   "source": [
    "def get(location, val):\n",
    "    cur = self.head \n",
    "    for i in range(location):\n",
    "        cur = cur.next \n",
    "    return cur.val "
   ]
  },
  {
   "cell_type": "markdown",
   "id": "23477e62",
   "metadata": {},
   "source": [
    "### 插入操作：add(location, val)"
   ]
  },
  {
   "cell_type": "code",
   "execution_count": 10,
   "id": "92952a07",
   "metadata": {},
   "outputs": [],
   "source": [
    "def add(location, val):\n",
    "    cur = self.head\n",
    "    new_node = NodeList(val)\n",
    "    #插入中间：\n",
    "    if location > 0:\n",
    "        for i in range(locaiton-1):\n",
    "            cur = cur.next \n",
    "        new_node.next = cur.next \n",
    "        cur.next = new_node \n",
    "    #插入头部：\n",
    "    elif location == 0: \n",
    "        new_node.next = cur\n",
    "        self.head = new_node \n",
    "        "
   ]
  },
  {
   "cell_type": "markdown",
   "id": "35893059",
   "metadata": {},
   "source": [
    "### 更新操作：set(self, locaiton, val):"
   ]
  },
  {
   "cell_type": "code",
   "execution_count": 13,
   "id": "e2dbe5dd",
   "metadata": {},
   "outputs": [],
   "source": [
    "def set(self, location, val):\n",
    "    cur = self.head\n",
    "    for i in range(location):\n",
    "        cur = cur.next \n",
    "    cur.val = val "
   ]
  },
  {
   "cell_type": "markdown",
   "id": "3df1efe5",
   "metadata": {},
   "source": [
    "### 删除操作：remove(self, location, val): "
   ]
  },
  {
   "cell_type": "code",
   "execution_count": 16,
   "id": "5ab4eeb8",
   "metadata": {},
   "outputs": [],
   "source": [
    "def remove(self, location, val):\n",
    "    if location > 0: \n",
    "        cur = self.head\n",
    "        for i in range(location-1):\n",
    "            cur = cur.next \n",
    "        cur.next = cur.next.next\n",
    "    elif location == 0: \n",
    "        self.head = self.head.next "
   ]
  },
  {
   "cell_type": "code",
   "execution_count": null,
   "id": "81157af7",
   "metadata": {},
   "outputs": [],
   "source": []
  }
 ],
 "metadata": {
  "kernelspec": {
   "display_name": "Python 3",
   "language": "python",
   "name": "python3"
  },
  "language_info": {
   "codemirror_mode": {
    "name": "ipython",
    "version": 3
   },
   "file_extension": ".py",
   "mimetype": "text/x-python",
   "name": "python",
   "nbconvert_exporter": "python",
   "pygments_lexer": "ipython3",
   "version": "3.8.8"
  }
 },
 "nbformat": 4,
 "nbformat_minor": 5
}
