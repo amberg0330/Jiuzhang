{
 "cells": [
  {
   "cell_type": "markdown",
   "id": "99efd75f",
   "metadata": {},
   "source": [
    "# Set Example"
   ]
  },
  {
   "cell_type": "code",
   "execution_count": 44,
   "id": "0e24b2a6",
   "metadata": {},
   "outputs": [],
   "source": [
    "set_1 = set([12, 15, 18.2, 'hello'])\n",
    "set_2 = {12, 15, 18.2, 'hello'} #和上面等价 就是集合\n",
    "set_3 = set('hello')"
   ]
  },
  {
   "cell_type": "code",
   "execution_count": 45,
   "id": "9a9d3fb7",
   "metadata": {},
   "outputs": [
    {
     "data": {
      "text/plain": [
       "{'e', 'h', 'l', 'o'}"
      ]
     },
     "execution_count": 45,
     "metadata": {},
     "output_type": "execute_result"
    }
   ],
   "source": [
    "set_3"
   ]
  },
  {
   "cell_type": "markdown",
   "id": "688825e1",
   "metadata": {},
   "source": [
    "## 增 Create"
   ]
  },
  {
   "cell_type": "code",
   "execution_count": 47,
   "id": "3f9d9e37",
   "metadata": {},
   "outputs": [
    {
     "data": {
      "text/plain": [
       "{12, 15, 18.2, 'Jiuzhang', 'hello'}"
      ]
     },
     "execution_count": 47,
     "metadata": {},
     "output_type": "execute_result"
    }
   ],
   "source": [
    "set_1.add('Jiuzhang')\n",
    "set_1"
   ]
  },
  {
   "cell_type": "code",
   "execution_count": 48,
   "id": "3d52b037",
   "metadata": {},
   "outputs": [
    {
     "data": {
      "text/plain": [
       "{11, 12, 15, 18.2, 'Jiuzhang', 'abc', 'hello'}"
      ]
     },
     "execution_count": 48,
     "metadata": {},
     "output_type": "execute_result"
    }
   ],
   "source": [
    "set_1.update([11, 'abc']) #是add的批量操作\n",
    "set_1"
   ]
  },
  {
   "cell_type": "markdown",
   "id": "92ae32eb",
   "metadata": {},
   "source": [
    "## 查 Read"
   ]
  },
  {
   "cell_type": "code",
   "execution_count": 49,
   "id": "fa79fe49",
   "metadata": {},
   "outputs": [
    {
     "name": "stdout",
     "output_type": "stream",
     "text": [
      "hello 11 12 15 Jiuzhang 18.2 abc "
     ]
    }
   ],
   "source": [
    "for elem in set_1: \n",
    "    print(elem, end=\" \")"
   ]
  },
  {
   "cell_type": "code",
   "execution_count": 50,
   "id": "2504095f",
   "metadata": {},
   "outputs": [
    {
     "data": {
      "text/plain": [
       "True"
      ]
     },
     "execution_count": 50,
     "metadata": {},
     "output_type": "execute_result"
    }
   ],
   "source": [
    "12 in set_1 #时间复杂度 O（1）"
   ]
  },
  {
   "cell_type": "markdown",
   "id": "8e7f7fb4",
   "metadata": {},
   "source": [
    "## 删 Delete"
   ]
  },
  {
   "cell_type": "code",
   "execution_count": 51,
   "id": "0436bfe2",
   "metadata": {},
   "outputs": [
    {
     "data": {
      "text/plain": [
       "{11, 15, 18.2, 'Jiuzhang', 'abc', 'hello'}"
      ]
     },
     "execution_count": 51,
     "metadata": {},
     "output_type": "execute_result"
    }
   ],
   "source": [
    "if 12 in set_1:\n",
    "    set_1.remove(12)\n",
    "set_1"
   ]
  },
  {
   "cell_type": "code",
   "execution_count": 52,
   "id": "c753500b",
   "metadata": {},
   "outputs": [
    {
     "ename": "KeyError",
     "evalue": "100",
     "output_type": "error",
     "traceback": [
      "\u001b[0;31m---------------------------------------------------------------------------\u001b[0m",
      "\u001b[0;31mKeyError\u001b[0m                                  Traceback (most recent call last)",
      "\u001b[0;32m<ipython-input-52-950da22b695e>\u001b[0m in \u001b[0;36m<module>\u001b[0;34m\u001b[0m\n\u001b[0;32m----> 1\u001b[0;31m \u001b[0mset_1\u001b[0m\u001b[0;34m.\u001b[0m\u001b[0mremove\u001b[0m\u001b[0;34m(\u001b[0m\u001b[0;36m100\u001b[0m\u001b[0;34m)\u001b[0m\u001b[0;34m\u001b[0m\u001b[0;34m\u001b[0m\u001b[0m\n\u001b[0m",
      "\u001b[0;31mKeyError\u001b[0m: 100"
     ]
    }
   ],
   "source": [
    "set_1.remove(100)"
   ]
  },
  {
   "cell_type": "code",
   "execution_count": 53,
   "id": "87cbc013",
   "metadata": {},
   "outputs": [
    {
     "data": {
      "text/plain": [
       "{11, 15, 18.2, 'Jiuzhang', 'abc', 'hello'}"
      ]
     },
     "execution_count": 53,
     "metadata": {},
     "output_type": "execute_result"
    }
   ],
   "source": [
    "set_1.discard(13) #如果在就删除 不在就啥也没发生\n",
    "set_1"
   ]
  },
  {
   "cell_type": "code",
   "execution_count": 21,
   "id": "f3f35a2c",
   "metadata": {},
   "outputs": [
    {
     "data": {
      "text/plain": [
       "'hello'"
      ]
     },
     "execution_count": 21,
     "metadata": {},
     "output_type": "execute_result"
    }
   ],
   "source": [
    "set_1.pop()#无序的 所以他是随机删除 - 一般不会用的"
   ]
  },
  {
   "cell_type": "markdown",
   "id": "54b1b73b",
   "metadata": {},
   "source": [
    "## 其他 Other "
   ]
  },
  {
   "cell_type": "code",
   "execution_count": 54,
   "id": "29b7dccc",
   "metadata": {},
   "outputs": [
    {
     "data": {
      "text/plain": [
       "4"
      ]
     },
     "execution_count": 54,
     "metadata": {},
     "output_type": "execute_result"
    }
   ],
   "source": [
    "len(set_2)"
   ]
  },
  {
   "cell_type": "markdown",
   "id": "2ed6c4a9",
   "metadata": {},
   "source": [
    "## 集合间操作 Set Operation"
   ]
  },
  {
   "cell_type": "code",
   "execution_count": 55,
   "id": "5f269a8f",
   "metadata": {},
   "outputs": [
    {
     "data": {
      "text/plain": [
       "({11, 15, 18.2, 'Jiuzhang', 'abc', 'hello'},\n",
       " {12, 15, 18.2, 'hello'},\n",
       " {'e', 'h', 'l', 'o'})"
      ]
     },
     "execution_count": 55,
     "metadata": {},
     "output_type": "execute_result"
    }
   ],
   "source": [
    "set_1, set_2, set_3 "
   ]
  },
  {
   "cell_type": "markdown",
   "id": "8f77bd3b",
   "metadata": {},
   "source": [
    "### 并集 Union"
   ]
  },
  {
   "cell_type": "code",
   "execution_count": 56,
   "id": "e3102bc6",
   "metadata": {},
   "outputs": [
    {
     "data": {
      "text/plain": [
       "{12, 15, 18.2, 'e', 'h', 'hello', 'l', 'o'}"
      ]
     },
     "execution_count": 56,
     "metadata": {},
     "output_type": "execute_result"
    }
   ],
   "source": [
    "set_2.union(set_3)"
   ]
  },
  {
   "cell_type": "code",
   "execution_count": 57,
   "id": "207b6a97",
   "metadata": {},
   "outputs": [
    {
     "data": {
      "text/plain": [
       "{12, 15, 18.2, 'e', 'h', 'hello', 'l', 'o'}"
      ]
     },
     "execution_count": 57,
     "metadata": {},
     "output_type": "execute_result"
    }
   ],
   "source": [
    "set_2 | set_3"
   ]
  },
  {
   "cell_type": "markdown",
   "id": "84516505",
   "metadata": {},
   "source": [
    "### 交集 intersection"
   ]
  },
  {
   "cell_type": "code",
   "execution_count": 58,
   "id": "98dee70f",
   "metadata": {},
   "outputs": [
    {
     "data": {
      "text/plain": [
       "{15, 18.2, 'hello'}"
      ]
     },
     "execution_count": 58,
     "metadata": {},
     "output_type": "execute_result"
    }
   ],
   "source": [
    "set_2.intersection(set_1)"
   ]
  },
  {
   "cell_type": "code",
   "execution_count": 59,
   "id": "9758b714",
   "metadata": {},
   "outputs": [
    {
     "data": {
      "text/plain": [
       "{15, 18.2, 'hello'}"
      ]
     },
     "execution_count": 59,
     "metadata": {},
     "output_type": "execute_result"
    }
   ],
   "source": [
    "set_2 & set_1 "
   ]
  },
  {
   "cell_type": "markdown",
   "id": "3611a882",
   "metadata": {},
   "source": [
    "### 差集"
   ]
  },
  {
   "cell_type": "code",
   "execution_count": 60,
   "id": "e3b19394",
   "metadata": {},
   "outputs": [
    {
     "data": {
      "text/plain": [
       "{12}"
      ]
     },
     "execution_count": 60,
     "metadata": {},
     "output_type": "execute_result"
    }
   ],
   "source": [
    "set_2.difference(set_1) #得到set_2里有but set_1里没有的元素"
   ]
  },
  {
   "cell_type": "code",
   "execution_count": 61,
   "id": "d681eb21",
   "metadata": {},
   "outputs": [
    {
     "data": {
      "text/plain": [
       "{12}"
      ]
     },
     "execution_count": 61,
     "metadata": {},
     "output_type": "execute_result"
    }
   ],
   "source": [
    "set_2 - set_1"
   ]
  },
  {
   "cell_type": "markdown",
   "id": "e9854606",
   "metadata": {},
   "source": [
    "### 对称差/亦或运算 （set_1 | set_2） - (set_1 & set_2)"
   ]
  },
  {
   "cell_type": "code",
   "execution_count": 62,
   "id": "e1908e9a",
   "metadata": {},
   "outputs": [
    {
     "data": {
      "text/plain": [
       "{11, 12, 'Jiuzhang', 'abc'}"
      ]
     },
     "execution_count": 62,
     "metadata": {},
     "output_type": "execute_result"
    }
   ],
   "source": [
    "set_2.symmetric_difference(set_1)"
   ]
  },
  {
   "cell_type": "code",
   "execution_count": 63,
   "id": "e883c4f1",
   "metadata": {},
   "outputs": [
    {
     "data": {
      "text/plain": [
       "{11, 12, 'Jiuzhang', 'abc'}"
      ]
     },
     "execution_count": 63,
     "metadata": {},
     "output_type": "execute_result"
    }
   ],
   "source": [
    "set_2 ^ set_1"
   ]
  },
  {
   "cell_type": "code",
   "execution_count": null,
   "id": "66a714fb",
   "metadata": {},
   "outputs": [],
   "source": []
  }
 ],
 "metadata": {
  "kernelspec": {
   "display_name": "Python 3",
   "language": "python",
   "name": "python3"
  },
  "language_info": {
   "codemirror_mode": {
    "name": "ipython",
    "version": 3
   },
   "file_extension": ".py",
   "mimetype": "text/x-python",
   "name": "python",
   "nbconvert_exporter": "python",
   "pygments_lexer": "ipython3",
   "version": "3.8.8"
  }
 },
 "nbformat": 4,
 "nbformat_minor": 5
}
