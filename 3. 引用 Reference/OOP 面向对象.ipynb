{
 "cells": [
  {
   "cell_type": "code",
   "execution_count": 2,
   "id": "46b76390",
   "metadata": {},
   "outputs": [],
   "source": [
    "### 面向对象\n",
    "\n",
    "# 对象（object) instance就是对象 - 等价概念 \n",
    "\n",
    "# 类（class)- upper camel case \n",
    "\n",
    "# member variable - filed; 表属性\n",
    "# member function - method; 表对象行为\n"
   ]
  },
  {
   "cell_type": "code",
   "execution_count": 7,
   "id": "85ab0a0a",
   "metadata": {},
   "outputs": [
    {
     "name": "stdout",
     "output_type": "stream",
     "text": [
      "Jack 80\n",
      "Jack 80\n",
      "Jack 98\n",
      "Jack 98\n"
     ]
    }
   ],
   "source": [
    "class Student: #class(upper camel case):如多个字母首字母大写\n",
    "    def __init__(self, name, score): #两个属性\n",
    "        self.name = name \n",
    "        self.score = score \n",
    "    \n",
    "    def speak(self):\n",
    "        print(self.name, self.score)\n",
    "    #so far 类只是一个概念 并不是真正的object \n",
    "\n",
    "if __name__ == \"__main__\":\n",
    "    student = Student(\"Jack\", 80)#通过这种方法生成一个对象 赋值给变量‘student'\n",
    "    print(student.name, student.score)\n",
    "    student.speak()#通过student.speak()访问行为\n",
    "    \n",
    "    student.score=98 #还可以重新赋值\n",
    "    print(student.name, student.score)\n",
    "    student.speak()\n",
    "    "
   ]
  },
  {
   "cell_type": "code",
   "execution_count": 8,
   "id": "89392b03",
   "metadata": {},
   "outputs": [],
   "source": [
    "## 面向对象三大特征： \n",
    "# 封装性 encapsulation \n",
    "# 继承 inheritance\n",
    "# 多态 polymorphism"
   ]
  },
  {
   "cell_type": "code",
   "execution_count": null,
   "id": "34b9cede",
   "metadata": {},
   "outputs": [],
   "source": [
    "## 权限控制\n",
    "\n",
    "self.score   #public 到处可以访问\n",
    "self._score  #protected 不建议外面使用 会给warning\n",
    "self.__score #private 只能在类内部使用 外部和子类都不能用！ \n",
    "stu._Student__score #name mangling 名称修饰 不建议这样使用！ "
   ]
  }
 ],
 "metadata": {
  "kernelspec": {
   "display_name": "Python 3",
   "language": "python",
   "name": "python3"
  },
  "language_info": {
   "codemirror_mode": {
    "name": "ipython",
    "version": 3
   },
   "file_extension": ".py",
   "mimetype": "text/x-python",
   "name": "python",
   "nbconvert_exporter": "python",
   "pygments_lexer": "ipython3",
   "version": "3.8.8"
  }
 },
 "nbformat": 4,
 "nbformat_minor": 5
}
